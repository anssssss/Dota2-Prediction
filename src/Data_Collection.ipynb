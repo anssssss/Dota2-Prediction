{
 "cells": [
  {
   "cell_type": "markdown",
   "metadata": {},
   "source": [
    "# Collect teams' ranking and matches history data"
   ]
  },
  {
   "cell_type": "markdown",
   "metadata": {},
   "source": [
    "## Teams' ranking points"
   ]
  },
  {
   "cell_type": "code",
   "execution_count": 1,
   "metadata": {},
   "outputs": [],
   "source": [
    "from selenium.webdriver import ChromeOptions, Chrome\n",
    "from bs4 import BeautifulSoup\n",
    "\n",
    "# set up browser driver\n",
    "options = ChromeOptions()\n",
    "options.add_argument('--ignore-certificate-errors')\n",
    "options.add_argument('--incognito')\n",
    "options.add_argument('--headless')"
   ]
  },
  {
   "cell_type": "code",
   "execution_count": 2,
   "metadata": {},
   "outputs": [],
   "source": [
    "driver = Chrome(chrome_options=options)\n",
    "driver.get('https://www.opendota.com/teams')\n",
    "\n",
    "# parse selenium driver using BeautifulSoup\n",
    "def parse(driver):\n",
    "    page_source = driver.page_source\n",
    "    return BeautifulSoup(page_source, 'lxml')\n",
    "\n",
    "soup = parse(driver)"
   ]
  },
  {
   "cell_type": "code",
   "execution_count": 3,
   "metadata": {
    "tags": []
   },
   "outputs": [],
   "source": [
    "from pandas import DataFrame\n",
    "from datetime import date\n",
    "\n",
    "names = [] # team names\n",
    "links = [] # team links\n",
    "ranks = [] # team rankings\n",
    "\n",
    "# extract data from webpage\n",
    "for tr in soup.find_all('tr')[1:]:\n",
    "    a = tr.find('a', href=True)\n",
    "    links.append(a['href'])\n",
    "    names.append(a.get_text())\n",
    "    ranks.append(int(tr.find('div', class_='iARqUo').get_text()[:-1]))\n",
    "\n",
    "frame = DataFrame()\n",
    "frame['name'] = names\n",
    "frame['link'] = links\n",
    "frame['rank'] = ranks"
   ]
  },
  {
   "cell_type": "markdown",
   "metadata": {},
   "source": [
    "## Matches history"
   ]
  },
  {
   "cell_type": "code",
   "execution_count": 49,
   "metadata": {},
   "outputs": [],
   "source": [
    "from datetime import datetime, timedelta\n",
    "\n",
    "now = datetime.now()\n",
    "\n",
    "# get team url from shorten link\n",
    "def get_url(link):\n",
    "    return 'https://www.opendota.com' + link + '/matches'\n",
    "\n",
    "# get DataFrame of matches history from BeautifulSoup object\n",
    "# also indicate if found a match from more than a month ago (False if found)\n",
    "def get_frame(soup):\n",
    "    frame_his = DataFrame(columns=['lost', 'opponent', 'o_rank'])\n",
    "    for tr in soup.find_all('tr')[1:]:\n",
    "        match = {}\n",
    "        time = tr.find('div', class_='jehLtr').get_text()\n",
    "        \n",
    "        # check if match is more than a month ago\n",
    "        if time.find('month') != -1 or time.find('year') != -1:\n",
    "            return frame_his, False\n",
    "\n",
    "        # result (True if lost)\n",
    "        match['lost'] = (tr.find_all('td')[2].find('span').get_text()[0] == 'L')\n",
    "\n",
    "        # opponent\n",
    "        a = tr.find_all('a', href=True)[1]\n",
    "        opponent = a.get_text()\n",
    "        match['opponent'] = opponent\n",
    "        # opponent's rank\n",
    "        global frame\n",
    "        if (frame['name'] == opponent).any():\n",
    "            rank = frame[frame['name'] == opponent]['rank'].tolist()[0]\n",
    "        else:\n",
    "            href = a['href']\n",
    "            driver_opponent = Chrome(chrome_options=options)\n",
    "            driver_opponent.get(get_url(href))\n",
    "            soup_team = parse(driver_opponent)\n",
    "            rank = soup_team.find_all('div', class_='iLrWwU')[2].find_all('span')[1].get_text()\n",
    "            frame = frame.append({'name':opponent, 'link':href, 'rank':rank}, ignore_index=True)\n",
    "        match['o_rank'] = rank\n",
    "        \n",
    "        frame_his = frame_his.append(match, ignore_index=True)\n",
    "    return frame_his, True"
   ]
  },
  {
   "cell_type": "code",
   "execution_count": 50,
   "metadata": {
    "tags": []
   },
   "outputs": [
    {
     "output_type": "stream",
     "name": "stdout",
     "text": "getting Proxima E-Sports\n/teams/1949879\ngetting Dark Sided\n/teams/6904952\ngetting beastcoast\n/teams/7441136\ngetting Photon Gaming\n/teams/7034601\ngetting Revenge Gaming\n/teams/7101255\ngetting Team \"ENEMY\"\n/teams/6350308\n"
    },
    {
     "output_type": "error",
     "ename": "OSError",
     "evalue": "[Errno 22] Invalid argument: '../data/teams/Team \"ENEMY\".csv'",
     "traceback": [
      "\u001b[1;31m---------------------------------------------------------------------------\u001b[0m",
      "\u001b[1;31mOSError\u001b[0m                                   Traceback (most recent call last)",
      "\u001b[1;32m<ipython-input-50-ebc38b38f7bf>\u001b[0m in \u001b[0;36m<module>\u001b[1;34m\u001b[0m\n\u001b[0;32m     28\u001b[0m     \u001b[1;32mexcept\u001b[0m\u001b[1;33m:\u001b[0m\u001b[1;33m\u001b[0m\u001b[1;33m\u001b[0m\u001b[0m\n\u001b[0;32m     29\u001b[0m         \u001b[1;32mpass\u001b[0m\u001b[1;33m\u001b[0m\u001b[1;33m\u001b[0m\u001b[0m\n\u001b[1;32m---> 30\u001b[1;33m     \u001b[0mframe_init\u001b[0m\u001b[1;33m.\u001b[0m\u001b[0mto_csv\u001b[0m\u001b[1;33m(\u001b[0m\u001b[1;34m'../data/teams/'\u001b[0m \u001b[1;33m+\u001b[0m \u001b[0mname\u001b[0m\u001b[1;33m.\u001b[0m\u001b[0mreplace\u001b[0m\u001b[1;33m(\u001b[0m\u001b[1;34m'.'\u001b[0m\u001b[1;33m,\u001b[0m \u001b[1;34m''\u001b[0m\u001b[1;33m)\u001b[0m \u001b[1;33m+\u001b[0m \u001b[1;34m'.csv'\u001b[0m\u001b[1;33m,\u001b[0m \u001b[0mindex\u001b[0m\u001b[1;33m=\u001b[0m\u001b[1;32mFalse\u001b[0m\u001b[1;33m)\u001b[0m\u001b[1;33m\u001b[0m\u001b[1;33m\u001b[0m\u001b[0m\n\u001b[0m",
      "\u001b[1;32m~\\Anaconda3\\lib\\site-packages\\pandas\\core\\generic.py\u001b[0m in \u001b[0;36mto_csv\u001b[1;34m(self, path_or_buf, sep, na_rep, float_format, columns, header, index, index_label, mode, encoding, compression, quoting, quotechar, line_terminator, chunksize, tupleize_cols, date_format, doublequote, escapechar, decimal)\u001b[0m\n\u001b[0;32m   3018\u001b[0m                                  \u001b[0mdoublequote\u001b[0m\u001b[1;33m=\u001b[0m\u001b[0mdoublequote\u001b[0m\u001b[1;33m,\u001b[0m\u001b[1;33m\u001b[0m\u001b[1;33m\u001b[0m\u001b[0m\n\u001b[0;32m   3019\u001b[0m                                  escapechar=escapechar, decimal=decimal)\n\u001b[1;32m-> 3020\u001b[1;33m         \u001b[0mformatter\u001b[0m\u001b[1;33m.\u001b[0m\u001b[0msave\u001b[0m\u001b[1;33m(\u001b[0m\u001b[1;33m)\u001b[0m\u001b[1;33m\u001b[0m\u001b[1;33m\u001b[0m\u001b[0m\n\u001b[0m\u001b[0;32m   3021\u001b[0m \u001b[1;33m\u001b[0m\u001b[0m\n\u001b[0;32m   3022\u001b[0m         \u001b[1;32mif\u001b[0m \u001b[0mpath_or_buf\u001b[0m \u001b[1;32mis\u001b[0m \u001b[1;32mNone\u001b[0m\u001b[1;33m:\u001b[0m\u001b[1;33m\u001b[0m\u001b[1;33m\u001b[0m\u001b[0m\n",
      "\u001b[1;32m~\\Anaconda3\\lib\\site-packages\\pandas\\io\\formats\\csvs.py\u001b[0m in \u001b[0;36msave\u001b[1;34m(self)\u001b[0m\n\u001b[0;32m    155\u001b[0m             f, handles = _get_handle(self.path_or_buf, self.mode,\n\u001b[0;32m    156\u001b[0m                                      \u001b[0mencoding\u001b[0m\u001b[1;33m=\u001b[0m\u001b[0mself\u001b[0m\u001b[1;33m.\u001b[0m\u001b[0mencoding\u001b[0m\u001b[1;33m,\u001b[0m\u001b[1;33m\u001b[0m\u001b[1;33m\u001b[0m\u001b[0m\n\u001b[1;32m--> 157\u001b[1;33m                                      compression=self.compression)\n\u001b[0m\u001b[0;32m    158\u001b[0m             \u001b[0mclose\u001b[0m \u001b[1;33m=\u001b[0m \u001b[1;32mTrue\u001b[0m\u001b[1;33m\u001b[0m\u001b[1;33m\u001b[0m\u001b[0m\n\u001b[0;32m    159\u001b[0m \u001b[1;33m\u001b[0m\u001b[0m\n",
      "\u001b[1;32m~\\Anaconda3\\lib\\site-packages\\pandas\\io\\common.py\u001b[0m in \u001b[0;36m_get_handle\u001b[1;34m(path_or_buf, mode, encoding, compression, memory_map, is_text)\u001b[0m\n\u001b[0;32m    422\u001b[0m         \u001b[1;32melif\u001b[0m \u001b[0mencoding\u001b[0m\u001b[1;33m:\u001b[0m\u001b[1;33m\u001b[0m\u001b[1;33m\u001b[0m\u001b[0m\n\u001b[0;32m    423\u001b[0m             \u001b[1;31m# Python 3 and encoding\u001b[0m\u001b[1;33m\u001b[0m\u001b[1;33m\u001b[0m\u001b[1;33m\u001b[0m\u001b[0m\n\u001b[1;32m--> 424\u001b[1;33m             \u001b[0mf\u001b[0m \u001b[1;33m=\u001b[0m \u001b[0mopen\u001b[0m\u001b[1;33m(\u001b[0m\u001b[0mpath_or_buf\u001b[0m\u001b[1;33m,\u001b[0m \u001b[0mmode\u001b[0m\u001b[1;33m,\u001b[0m \u001b[0mencoding\u001b[0m\u001b[1;33m=\u001b[0m\u001b[0mencoding\u001b[0m\u001b[1;33m,\u001b[0m \u001b[0mnewline\u001b[0m\u001b[1;33m=\u001b[0m\u001b[1;34m\"\"\u001b[0m\u001b[1;33m)\u001b[0m\u001b[1;33m\u001b[0m\u001b[1;33m\u001b[0m\u001b[0m\n\u001b[0m\u001b[0;32m    425\u001b[0m         \u001b[1;32melif\u001b[0m \u001b[0mis_text\u001b[0m\u001b[1;33m:\u001b[0m\u001b[1;33m\u001b[0m\u001b[1;33m\u001b[0m\u001b[0m\n\u001b[0;32m    426\u001b[0m             \u001b[1;31m# Python 3 and no explicit encoding\u001b[0m\u001b[1;33m\u001b[0m\u001b[1;33m\u001b[0m\u001b[1;33m\u001b[0m\u001b[0m\n",
      "\u001b[1;31mOSError\u001b[0m: [Errno 22] Invalid argument: '../data/teams/Team \"ENEMY\".csv'"
     ]
    }
   ],
   "source": [
    "# from selenium.webdriver.common.by import By\n",
    "# from selenium.webdriver.support.ui import WebDriverWait\n",
    "# from selenium.webdriver.support import expected_conditions\n",
    "from time import sleep\n",
    "from pandas import concat\n",
    "\n",
    "for link in links[85:]:\n",
    "    name = frame[frame['link'] == link]['name'].tolist()[0]\n",
    "    print('getting ' + name)\n",
    "    driver = Chrome(chrome_options=options)\n",
    "    driver.get(get_url(link))\n",
    "    print(link)\n",
    "    try:\n",
    "        frame_init, threshold = get_frame(parse(driver))\n",
    "        # if threshold:\n",
    "        #     try:\n",
    "        #         elem = WebDriverWait(driver, 10).until(expected_conditions.presence_of_element_located((By.CLASS_NAME, \"gzZqVc\")))\n",
    "        #     finally:\n",
    "        #         driver.quit()\n",
    "        sleep(1)\n",
    "        count = 1\n",
    "    \n",
    "        while threshold and count < 5:\n",
    "            driver.find_elements_by_css_selector('.sc-fAjcbJ.gzZqVc')[-1].click()\n",
    "            frame_his, threshold = get_frame(parse(driver))\n",
    "            frame_init = concat([frame_init, frame_his])\n",
    "            count+= 1\n",
    "    except:\n",
    "        pass\n",
    "    frame_init.to_csv('../data/teams/' + name.replace('.', '').replace('\"', '') + '.csv', index=False)"
   ]
  },
  {
   "cell_type": "code",
   "execution_count": 6,
   "metadata": {},
   "outputs": [],
   "source": [
    "frame.to_csv('../data/ranks/' + str(date.today()) + '.csv', index=False)"
   ]
  }
 ],
 "metadata": {
  "language_info": {
   "codemirror_mode": {
    "name": "ipython",
    "version": 3
   },
   "file_extension": ".py",
   "mimetype": "text/x-python",
   "name": "python",
   "nbconvert_exporter": "python",
   "pygments_lexer": "ipython3",
   "version": "3.7.3-final"
  },
  "orig_nbformat": 2,
  "kernelspec": {
   "name": "python3",
   "display_name": "Python 3"
  }
 },
 "nbformat": 4,
 "nbformat_minor": 2
}