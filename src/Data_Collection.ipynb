{
 "cells": [
  {
   "cell_type": "markdown",
   "metadata": {},
   "source": [
    "# Collect teams' ranking and matches history data"
   ]
  },
  {
   "cell_type": "markdown",
   "metadata": {},
   "source": [
    "## Teams' ranking points"
   ]
  },
  {
   "cell_type": "code",
   "execution_count": 11,
   "metadata": {
    "tags": [
     "outputPrepend",
     "outputPrepend"
    ]
   },
   "outputs": [],
   "source": [
    "with open('../data/ranking.html', encoding='utf-8') as file:\n",
    "    content = file.read().strip('\\n').split('#')\n",
    "\n",
    "pts = []\n",
    "\n",
    "for team in content[1:]:\n",
    "\n",
    "    info = []\n",
    "\n",
    "    index_pts = team.index(' pts')\n",
    "    info.append(int(team[team.rindex(' ', 0, index_pts) : index_pts]))\n",
    "\n",
    "    team = team[index_pts + 5 : -1]\n",
    "    \n",
    "    # remove region from team name\n",
    "    if team.find('CIS') == 0 or team.find('SEA') == 0:\n",
    "        team = team[3:]\n",
    "    else:\n",
    "        team = team[2:]\n",
    "\n",
    "    info.append(team)\n",
    "\n",
    "    pts.append(info)"
   ]
  },
  {
   "cell_type": "markdown",
   "metadata": {},
   "source": [
    "## Matches history"
   ]
  },
  {
   "cell_type": "code",
   "execution_count": 10,
   "metadata": {},
   "outputs": [
    {
     "output_type": "execute_result",
     "data": {
      "text/plain": "[[1007, 'Team Secret'],\n [420, 'Vici Gaming'],\n [409, 'Virtus.pro'],\n [408, 'Team Liquid'],\n [381, 'Evil Geniuses'],\n [324, 'Team Nigma'],\n [266, 'Alliance'],\n [234, 'OG'],\n [217, 'PSG.LGD'],\n [215, 'Invictus\\nGaming'],\n [210, 'VP.Prodigy'],\n [207, 'Ninjas in Pyjamas'],\n [203, 'Fnatic'],\n [191, 'EHOME'],\n [150, 'Team Spirit'],\n [143, 'HellRaisers'],\n [139, 'Vikin.gg'],\n [132, 'Natus Vincere'],\n [127, 'TNC\\nPredator'],\n [118, 'Royal Never Give Up'],\n [114, 'Team Aster'],\n [83, 'Sparking Arrow Gaming'],\n [72, 'Quincy Crew'],\n [66, 'FlyToMoon'],\n [66, 'Newbee'],\n [65, 'beastcoast'],\n [60, 'OG Seed'],\n [50, 'CR4ZY'],\n [37, 'Gambit Esports'],\n [28, 'Geek Fam'],\n [27, 'Reality Rift'],\n [27, 'Former Players of paiN Gaming'],\n [26, 'CDEC Gaming'],\n [24, 'Thunder Predator'],\n [20, 'Team Unique'],\n [14, 'Keen Gaming'],\n [13, 'B8'],\n [10, 'BOOM Esports'],\n [9, 'business associates'],\n [9, 'Aggressive Mode'],\n [9, 'Cyber Legac']]"
     },
     "metadata": {},
     "execution_count": 10
    }
   ],
   "source": [
    "rank"
   ]
  },
  {
   "cell_type": "code",
   "execution_count": null,
   "metadata": {},
   "outputs": [],
   "source": []
  }
 ],
 "metadata": {
  "language_info": {
   "codemirror_mode": {
    "name": "ipython",
    "version": 3
   },
   "file_extension": ".py",
   "mimetype": "text/x-python",
   "name": "python",
   "nbconvert_exporter": "python",
   "pygments_lexer": "ipython3",
   "version": "3.7.3-final"
  },
  "orig_nbformat": 2,
  "kernelspec": {
   "name": "python3",
   "display_name": "Python 3"
  }
 },
 "nbformat": 4,
 "nbformat_minor": 2
}