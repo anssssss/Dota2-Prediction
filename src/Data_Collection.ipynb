{
 "cells": [
  {
   "cell_type": "markdown",
   "metadata": {},
   "source": [
    "# Collect teams' ranking and matches history data"
   ]
  },
  {
   "cell_type": "markdown",
   "metadata": {},
   "source": [
    "## Teams' ranking points"
   ]
  },
  {
   "cell_type": "code",
   "execution_count": 54,
   "metadata": {
    "tags": [
     "outputPrepend"
    ]
   },
   "outputs": [
    {
     "output_type": "stream",
     "name": "stdout",
     "text": "['Team Secret', 'PSG.LGD', 'Fnatic', 'Vici Gaming', 'Royal Never Give Up', 'Invictus Gaming', 'VP.Prodigy', 'Virtus.pro', 'EHOME', 'Evil Geniuses', 'CDEC Gaming', 'Alliance', 'Team Liquid', 'Quincy Crew', 'Nigma', 'ViKin.gg', 'OG', 'Team Aster', 'BOOM Esports', 'OG Seed', 'Adroit Esports', 'Natus Vincere', 'FlyToMoon', 'beastcoast', 'CR4ZY', 'Geek Fam', 'TNC Predator', 'NoPing Esports', 'Thunder Predator', 'Ninjas in Pyjamas', 'Neon Esports', 'Infamous', '4 Zoomers', 'Newbee', 'HellRaisers', 'iG Vitality', 'Team Sirius', 'Ad Honores', 'Prince Harry', 'DotaHero', 'Team Empire Hope', 'Motivade.Trust Gaming', 'EXTREMUM', 'paiN Gaming', 'Neet Uprising', 'Sparking Arrow Gaming', 'BendOver', 'Doze Reborn', 'Nemiga', 'Whoops!', 'Clcombat Team', 'Blaze', 'Sincerely Fury', 'Sparkling Water', 'Zero Respect', 'Leopard Gaming', 'Team Empire', 'Team Oracle', 'Reality Rift', \"Let'sGoBoys\", 'Team Venture', 'Team Strawberry', 'Aggressive Mode', 'YouKnowWho', 'ShavaNaTarelke', 'Gambit Esports', 'Flash Point Gaming', 'T1', 'Step On Me', 'KVP', 'KingPins', 'Keen Gaming.Luminous', 'SADBOYS.AU', 'Team Unique', 'Mayo Chicken', 'Flower Gaming', 'No Role Modelz', 'airGERlich', '5UpJungz', 'Revolt', 'Recast Gaming', 'Energy Esports', 'Team Oracle.AU', '0-900', 'You Should Ran', 'seregabulletdog', 'EURONICS Gaming', 'Crossfire', 'Vampire Gaming', 'TechPromBiz', 'Cyber Legacy', 'Reverse Heaven', 'Playbook Esports', 'LowOnBudget', 'Flexpick Sniper', 'Team Aspirations', 'Denique', 'Photon Gaming', 'Flashpoint Gaming', 'Golden Mulas', 'ARAHOSOVIE SOKOLI', 'A Gde BanList', 'Boost Esports Academy', 'Team Lightning', 'HappyArthas', 'LeftRight GN eSports', 'Future.club', 'Marble', 'boyci molodci', 'miaww^^', 'COOB', 'LuckyGaming', 'Adió Chula', 'Playing Ducks', 'Team Sneed', 'Demon Slayers', 'Puzzle', 'Terra Incognita', 'Nightmare Team', 'Team Rockets', 'Budget OG', 'ultra instinct', 'HoppinOutDaNinkyNonk', 'Weebos', 'Old Man Club', 'Cellular Game', 'Sweaty Soldiers', 'Stony Brook University', 'Cheeky Chums', 'Kolossus', 'Team WP', 'eSport Rhein-Neckar', 'Team Dariam', 'DoraDura', 'WOLF', 'White Rabbit Gaming', 'Team Black', 'balawkalar', 'Cygnus Pi', 'Burgers Flippers', 'Spirits Esports', 'Rise Esports', 'skraa', 'Team Buffalo', 'Team Heo Thì', 'nerdRage', 'Kobravex Gaming', '3 elderly + 2 nurse', '5dog', 'DSB the last.. last ride', 'IVY', 'Derzhawin', 'Goodfellaz', 'Cyberium.S', 'StarLucK.Fly', 'Cobra Gaming', 'Iem Anh Bảnh!', 'dRds', 'Taigun E-Sport', 'IMG', 'NGID.M11', 'Repulse Gaming', 'F.R.I.E.N.D.S.', \"Let's Have Fun\", 'Yolo Knights', 'Business associates', 'Pato dando vueltas HD', 'Edgar Davids Fan Club', 'PulaNaVilet', 'Impunity', 'NowadaysPogChamp', 'Five Brothers', 'Team Ethereal', 'Bad Boys', 'timurdota2', 'TriPALoSKy SQuad', 'Ance', 'Team Sigma Legacy', 'Mawzsports 1', 'Pristine n Clean', 'hehe united', 'Siberian Team', 'BuyBack Ready', 'doesntexist', 'Cascade Esports', 'SHENZHEN', 'Smurfs and Funky', 'Low Profile', 'SouthAmericanRejects', 'OldBoys', 'Warriors of the World', 'Veni Vidi Vici', 'Team Xu', 'Obscurial', 'Magic Hands', 'Sandblood', 'Ploopy07', 'ILMOHD', 'Equation', 'Moscow Five Academy', 'Abfahrt', 'Yangon Galacticos', 'Family Team', \"It's a Trap 2.0\", 'Les Retraités', 'Backpacks Gaming', 'Team Destiny', 'Benny Brian', 'Avengerls', 'AGN', 'SMARACIS eSports', 'SAINT', 'Astronauts', 'Team Sigma', 'CGina', 'Topf Voll Ott', 'Hot Pot Brother', 'Family Team', '496 Gaming', 'syndereN Fanclub', 'DisRespecT', 'Spag and Sons', 'Omega Gaming', 'Team Poyo', 'Exdee Gaming', 'EgoBoys', 'Luxor Gaming', 'Cignal Ultra', 'Justice League', 'KingsMan', 'Infinity Esports', 'Sadboys', 'Aster Aries', 'PlusOne', 'Plasma', 'Sinister 5', 'The New Top', 'Team Solid', 'UnTag Gaming', 'ghoul', 'SunRise', '212-', 'Ocean', 'IDKMQ', 'Khan', 'Azules Esports', 'Typhoon E-Sports Club', 'Busy Gaming', 'LGD International', 'The Boys', 'Meraki', 'NewBee Young', 'Tempo', 'Team Heroic', 'Cyber TRAKTOR', 'Keen Gaming', 'Real Deal Esports', 'No Bounty Hunter', 'Try2win', 'Team DileCom', 'Longinus', 'Reckoning Esports', 'EHOME.Immortal', 'Kingao+4', 'Dark Knight', 'Gorillaz-Pride', 'Cascade Esports', 'Kill Steal Kommando', 'Incubus Gaming', 'CR', 'Vicious Gaming', 'FURIA Esports', 'NOVA', 'FlyToMoon 2.0', 'Cyberium', 'Elephant', 'Team Unknown', 'KBU', 'Team Spirit', 'Execration', 'Cloud9', 'Vici Gaming Potential', 'Burning Fire', 'DoZe Esports', 'Internal Discord', 'Rampage Gaming', 'Winstrike Team', 'Midas Club', 'B8']\n[1435, 1369, 1256, 1231, 1231, 1229, 1220, 1216, 1215, 1207, 1204, 1186, 1183, 1182, 1180, 1153, 1141, 1140, 1124, 1108, 1108, 1104, 1102, 1102, 1102, 1092, 1079, 1076, 1070, 1060, 1057, 1054, 1054, 1048, 1044, 1040, 1034, 1030, 1028, 1028, 1028, 1027, 1026, 1026, 1024, 1023, 1022, 1020, 1020, 1018, 1017, 1017, 1016, 1016, 1015, 1015, 1015, 1015, 1014, 1013, 1013, 1013, 1012, 1012, 1012, 1011, 1011, 1011, 1010, 1009, 1009, 1007, 1007, 1006, 1006, 1005, 1005, 1005, 1005, 1004, 1004, 1004, 1004, 1004, 1003, 1003, 1003, 1003, 1003, 1003, 1002, 1002, 1002, 1002, 1002, 1002, 1002, 1002, 1001, 1001, 1000, 1000, 1000, 999, 999, 999, 999, 999, 999, 999, 998, 998, 998, 998, 998, 998, 998, 998, 998, 998, 997, 997, 997, 997, 997, 997, 997, 997, 997, 997, 997, 997, 997, 997, 997, 996, 996, 996, 996, 996, 996, 996, 996, 996, 995, 995, 995, 995, 995, 995, 995, 995, 995, 995, 995, 995, 994, 994, 994, 994, 994, 994, 994, 994, 994, 994, 994, 994, 994, 994, 994, 994, 994, 994, 993, 993, 993, 993, 993, 993, 993, 993, 993, 992, 992, 992, 992, 992, 992, 992, 992, 992, 992, 992, 992, 992, 991, 991, 991, 991, 991, 991, 991, 990, 990, 990, 990, 990, 990, 990, 990, 990, 989, 989, 989, 989, 989, 989, 988, 988, 988, 988, 988, 988, 988, 988, 988, 988, 987, 987, 986, 986, 986, 986, 986, 985, 985, 985, 985, 984, 984, 984, 984, 983, 982, 982, 982, 981, 981, 980, 980, 979, 979, 978, 977, 977, 977, 976, 973, 971, 970, 969, 968, 968, 967, 966, 966, 965, 963, 963, 963, 963, 962, 961, 961, 955, 954, 953, 951, 949, 945, 944, 943, 943, 942, 935, 933, 919, 852]\n"
    }
   ],
   "source": [
    "from requests import get\n",
    "from bs4 import BeautifulSoup\n",
    "from pandas import DataFrame\n",
    "\n",
    "names = []\n",
    "pts = []\n",
    "\n",
    "for page in range(1, 7):\n",
    "    soup = BeautifulSoup(get('https://www.gosugamers.net/dota2/rankings/list?page=' + str(page)).content, 'html.parser')\n",
    "    names = names + list(filter(None, [flag.next_sibling[30:-29] for flag in soup.find_all('span', class_='flag')]))\n",
    "    pts = pts + [int(pt.get_text()[33:-29]) for pt in soup.find_all('span', class_='elo')]\n",
    "\n",
    "frame = DataFrame()\n",
    "frame['name'] = names\n",
    "frame['pt'] = pts"
   ]
  },
  {
   "cell_type": "code",
   "execution_count": 3,
   "metadata": {},
   "outputs": [],
   "source": [
    "# from selenium import webdriver\n",
    "\n",
    "# options = webdriver.ChromeOptions()\n",
    "# options.add_argument('--ignore-certificate-errors')\n",
    "# options.add_argument('--incognito')\n",
    "# options.add_argument('--headless')\n",
    "# driver = webdriver.Chrome(chrome_options=options)\n",
    "# driver.get(\"https://www.gosugamers.net/dota2/rankings\")\n",
    "# page_source = driver.page_source"
   ]
  },
  {
   "cell_type": "code",
   "execution_count": 4,
   "metadata": {},
   "outputs": [],
   "source": [
    "# from bs4 import BeautifulSoup\n",
    "\n",
    "# soup = BeautifulSoup(page_source, 'lxml')"
   ]
  },
  {
   "cell_type": "code",
   "execution_count": null,
   "metadata": {},
   "outputs": [],
   "source": []
  }
 ],
 "metadata": {
  "language_info": {
   "codemirror_mode": {
    "name": "ipython",
    "version": 3
   },
   "file_extension": ".py",
   "mimetype": "text/x-python",
   "name": "python",
   "nbconvert_exporter": "python",
   "pygments_lexer": "ipython3",
   "version": "3.7.3-final"
  },
  "orig_nbformat": 2,
  "kernelspec": {
   "name": "python3",
   "display_name": "Python 3"
  }
 },
 "nbformat": 4,
 "nbformat_minor": 2
}