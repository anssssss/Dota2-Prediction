{
 "cells": [
  {
   "cell_type": "markdown",
   "metadata": {},
   "source": [
    "# Collect teams' ranking and matches history data"
   ]
  },
  {
   "cell_type": "markdown",
   "metadata": {},
   "source": [
    "## Teams' ranking points"
   ]
  },
  {
   "cell_type": "code",
   "execution_count": null,
   "metadata": {},
   "outputs": [],
   "source": [
    "from selenium.webdriver import ChromeOptions, Chrome\n",
    "from bs4 import BeautifulSoup\n",
    "\n",
    "# set up browser driver\n",
    "options = ChromeOptions()\n",
    "options.add_argument('--ignore-certificate-errors')\n",
    "options.add_argument('--incognito')\n",
    "options.add_argument('--headless')"
   ]
  },
  {
   "cell_type": "code",
   "execution_count": null,
   "metadata": {},
   "outputs": [],
   "source": [
    "driver = Chrome(chrome_options=options)\n",
    "driver.get('https://www.opendota.com/teams')\n",
    "\n",
    "# parse selenium driver using BeautifulSoup\n",
    "def parse(driver):\n",
    "    page_source = driver.page_source\n",
    "    return BeautifulSoup(page_source, 'lxml')\n",
    "\n",
    "soup = parse(driver)"
   ]
  },
  {
   "cell_type": "code",
   "execution_count": null,
   "metadata": {
    "tags": [
     "outputPrepend"
    ]
   },
   "outputs": [],
   "source": [
    "from pandas import DataFrame\n",
    "from datetime import date\n",
    "\n",
    "names = [] # team names\n",
    "links = [] # team links\n",
    "ranks = [] # team rankings\n",
    "\n",
    "# extract data from webpage\n",
    "for tr in soup.find_all('tr')[1:]:\n",
    "    a = tr.find('a', href=True)\n",
    "    links.append(a['href'])\n",
    "    names.append(a.get_text())\n",
    "    ranks.append(int(tr.find('div', class_='iARqUo').get_text()[:-1]))\n",
    "\n",
    "frame = DataFrame()\n",
    "frame['name'] = names\n",
    "frame['link'] = links\n",
    "frame['rank'] = ranks"
   ]
  },
  {
   "cell_type": "markdown",
   "metadata": {},
   "source": [
    "## Matches history"
   ]
  },
  {
   "cell_type": "code",
   "execution_count": null,
   "metadata": {},
   "outputs": [],
   "source": [
    "from datetime import datetime, timedelta\n",
    "\n",
    "now = datetime.now()\n",
    "\n",
    "# get team url from shorten link\n",
    "def get_url(link):\n",
    "    return 'https://www.opendota.com' + link + '/matches'\n",
    "\n",
    "# get DataFrame of matches history from BeautifulSoup object\n",
    "# also indicate if found a match from more than a month ago (False if found)\n",
    "def get_frame(soup):\n",
    "    frame_his = DataFrame(columns=['time', 'lost', 'opponent', 'o_rank'])\n",
    "    for tr in soup.find_all('tr')[1:]:\n",
    "        match = {}\n",
    "        time = tr.find('div', class_='jehLtr').get_text()\n",
    "        \n",
    "        # check if match is more than a month ago\n",
    "        index = time.find('day')\n",
    "        if index == -1:\n",
    "            return frame_his, False\n",
    "        \n",
    "        # time\n",
    "        match['time'] = (now - timedelta(days=int(time[:index - 1]))).date()\n",
    "\n",
    "        # result (True if lost)\n",
    "        match['lost'] = (tr.find_all('td')[2].find('span').get_text()[0] == 'L')\n",
    "\n",
    "        # opponent\n",
    "        a = tr.find_all('a', href=True)[1]\n",
    "        opponent = a.get_text()\n",
    "        match['opponent'] = opponent\n",
    "        # opponent's rank\n",
    "        global frame\n",
    "        if frame['name'].str.contains(opponent).any():\n",
    "            rank = frame[frame['name'] == opponent]['rank'].tolist()[0]\n",
    "        else:\n",
    "            href = a['href']\n",
    "            driver_opponent = Chrome(chrome_options=options)\n",
    "            driver_opponent.get(get_url(href))\n",
    "            soup_team = parse(driver_opponent)\n",
    "            rank = soup_team.find_all('div', class_='iLrWwU')[2].find_all('span')[1].get_text()\n",
    "            frame = frame.append({'name':opponent, 'link':href, 'rank':rank}, ignore_index=True)\n",
    "        match['o_rank'] = rank\n",
    "        \n",
    "        frame_his = frame_his.append(match, ignore_index=True)\n",
    "    return frame_his, True"
   ]
  },
  {
   "cell_type": "code",
   "execution_count": null,
   "metadata": {
    "tags": [
     "outputPrepend",
     "outputPrepend",
     "outputPrepend",
     "outputPrepend",
     "outputPrepend",
     "outputPrepend",
     "outputPrepend",
     "outputPrepend",
     "outputPrepend",
     "outputPrepend",
     "outputPrepend",
     "outputPrepend",
     "outputPrepend",
     "outputPrepend",
     "outputPrepend",
     "outputPrepend",
     "outputPrepend",
     "outputPrepend",
     "outputPrepend",
     "outputPrepend",
     "outputPrepend",
     "outputPrepend",
     "outputPrepend",
     "outputPrepend",
     "outputPrepend",
     "outputPrepend",
     "outputPrepend",
     "outputPrepend",
     "outputPrepend",
     "outputPrepend",
     "outputPrepend",
     "outputPrepend",
     "outputPrepend",
     "outputPrepend",
     "outputPrepend",
     "outputPrepend",
     "outputPrepend",
     "outputPrepend",
     "outputPrepend",
     "outputPrepend",
     "outputPrepend",
     "outputPrepend",
     "outputPrepend",
     "outputPrepend",
     "outputPrepend",
     "outputPrepend",
     "outputPrepend",
     "outputPrepend",
     "outputPrepend",
     "outputPrepend",
     "outputPrepend",
     "outputPrepend",
     "outputPrepend",
     "outputPrepend",
     "outputPrepend",
     "outputPrepend",
     "outputPrepend",
     "outputPrepend",
     "outputPrepend",
     "outputPrepend",
     "outputPrepend",
     "outputPrepend",
     "outputPrepend",
     "outputPrepend",
     "outputPrepend",
     "outputPrepend",
     "outputPrepend",
     "outputPrepend",
     "outputPrepend",
     "outputPrepend",
     "outputPrepend",
     "outputPrepend",
     "outputPrepend",
     "outputPrepend"
    ]
   },
   "outputs": [],
   "source": [
    "# from selenium.webdriver.common.by import By\n",
    "# from selenium.webdriver.support.ui import WebDriverWait\n",
    "# from selenium.webdriver.support import expected_conditions\n",
    "from time import sleep\n",
    "from pandas import concat\n",
    "\n",
    "for link in links:\n",
    "    name = frame[frame['link'] == link]['name'].tolist()[0]\n",
    "    print('getting ' + name)\n",
    "    driver = Chrome(chrome_options=options)\n",
    "    driver.get(get_url(link))\n",
    "    frame_init, threshold = get_frame(parse(driver))\n",
    "    # if threshold:\n",
    "    #     try:\n",
    "    #         elem = WebDriverWait(driver, 10).until(expected_conditions.presence_of_element_located((By.CLASS_NAME, \"gzZqVc\")))\n",
    "    #     finally:\n",
    "    #         driver.quit()\n",
    "    sleep(1)\n",
    "    while threshold:\n",
    "        driver.find_elements_by_css_selector('.sc-fAjcbJ.gzZqVc')[-1].click()\n",
    "        frame_his, threshold = get_frame(parse(driver))\n",
    "        frame_init = concat([frame_init, frame_his])\n",
    "    frame_init.to_csv('../data/teams/' + name.replace('.', '') + '.csv', index=False)"
   ]
  },
  {
   "cell_type": "code",
   "execution_count": null,
   "metadata": {},
   "outputs": [],
   "source": [
    "frame.to_csv('../data/ranks/' + str(date.today()) + '.csv', index=False)"
   ]
  }
 ],
 "metadata": {
  "language_info": {
   "codemirror_mode": {
    "name": "ipython",
    "version": 3
   },
   "file_extension": ".py",
   "mimetype": "text/x-python",
   "name": "python",
   "nbconvert_exporter": "python",
   "pygments_lexer": "ipython3",
   "version": "3.7.3-final"
  },
  "orig_nbformat": 2,
  "kernelspec": {
   "name": "python3",
   "display_name": "Python 3"
  }
 },
 "nbformat": 4,
 "nbformat_minor": 2
}