{
 "cells": [
  {
   "cell_type": "markdown",
   "metadata": {},
   "source": [
    "# Collect teams' ranking and matches history data"
   ]
  },
  {
   "cell_type": "markdown",
   "metadata": {},
   "source": [
    "## Teams' ranking points"
   ]
  },
  {
   "cell_type": "code",
   "execution_count": 1,
   "metadata": {
    "tags": [
     "outputPrepend"
    ]
   },
   "outputs": [],
   "source": [
    "from requests import get\n",
    "from bs4 import BeautifulSoup\n",
    "from pandas import DataFrame\n",
    "\n",
    "names = []\n",
    "pts = []\n",
    "\n",
    "for page in range(1, 7):\n",
    "    soup = BeautifulSoup(get('https://www.gosugamers.net/dota2/rankings/list?page=' + str(page)).content, 'html.parser')\n",
    "    names = names + list(filter(None, [flag.next_sibling[30:-29] for flag in soup.find_all('span', class_='flag')]))\n",
    "    pts = pts + [int(pt.get_text()[33:-29]) for pt in soup.find_all('span', class_='elo')]\n",
    "\n",
    "frame = DataFrame()\n",
    "frame['name'] = names\n",
    "frame['pt'] = pts"
   ]
  },
  {
   "cell_type": "code",
   "execution_count": 3,
   "metadata": {},
   "outputs": [],
   "source": [
    "# from selenium import webdriver\n",
    "\n",
    "# options = webdriver.ChromeOptions()\n",
    "# options.add_argument('--ignore-certificate-errors')\n",
    "# options.add_argument('--incognito')\n",
    "# options.add_argument('--headless')\n",
    "# driver = webdriver.Chrome(chrome_options=options)\n",
    "# driver.get(\"https://www.gosugamers.net/dota2/rankings\")\n",
    "# page_source = driver.page_source"
   ]
  },
  {
   "cell_type": "code",
   "execution_count": 4,
   "metadata": {},
   "outputs": [],
   "source": [
    "# from bs4 import BeautifulSoup\n",
    "\n",
    "# soup = BeautifulSoup(page_source, 'lxml')"
   ]
  },
  {
   "cell_type": "code",
   "execution_count": null,
   "metadata": {},
   "outputs": [],
   "source": []
  }
 ],
 "metadata": {
  "language_info": {
   "codemirror_mode": {
    "name": "ipython",
    "version": 3
   },
   "file_extension": ".py",
   "mimetype": "text/x-python",
   "name": "python",
   "nbconvert_exporter": "python",
   "pygments_lexer": "ipython3",
   "version": "3.7.3-final"
  },
  "orig_nbformat": 2,
  "kernelspec": {
   "name": "python3",
   "display_name": "Python 3"
  }
 },
 "nbformat": 4,
 "nbformat_minor": 2
}